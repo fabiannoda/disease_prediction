{
 "cells": [
  {
   "cell_type": "code",
   "execution_count": null,
   "source": [
    "import numpy as np"
   ],
   "outputs": [],
   "metadata": {}
  }
 ],
 "metadata": {
  "orig_nbformat": 4,
  "language_info": {
   "name": "python",
   "version": "3.8.10"
  },
  "kernelspec": {
   "name": "python3",
   "display_name": "Python 3.8.10 64-bit ('entorno': venv)"
  },
  "interpreter": {
   "hash": "93c37aa72625d179860d2a3556b5eb5920522b095517be60dfe185bb0cf06aaf"
  }
 },
 "nbformat": 4,
 "nbformat_minor": 2
}